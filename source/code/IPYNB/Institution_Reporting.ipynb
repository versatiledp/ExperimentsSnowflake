{
  "nbformat": 4,
  "nbformat_minor": 0,
  "metadata": {
    "colab": {
      "name": "Institution Reporting.ipynb",
      "provenance": [],
      "collapsed_sections": []
    },
    "kernelspec": {
      "name": "python3",
      "display_name": "Python 3"
    }
  },
  "cells": [
    {
      "cell_type": "markdown",
      "metadata": {
        "id": "zwYGdEdL0utp"
      },
      "source": [
        "# **Institution Reporting**\r\n"
      ]
    },
    {
      "cell_type": "code",
      "metadata": {
        "id": "ATXnRNk74J7w"
      },
      "source": [
        "pip install snowflake-connector-python==2.3.6 > /dev/null"
      ],
      "execution_count": null,
      "outputs": []
    },
    {
      "cell_type": "code",
      "metadata": {
        "colab": {
          "base_uri": "https://localhost:8080/"
        },
        "id": "vpih2QvP0-63",
        "outputId": "bdcb4629-5af2-4975-86b7-8d78093849fa"
      },
      "source": [
        "#read required information to connect to Snowflake database\r\n",
        "from getpass import getpass\r\n",
        "accountName = getpass('Enter Snowflake account name:')\r\n",
        "userName = getpass('Enter Snowflake user name:')\r\n",
        "password = getpass('Enter Snowflake password:')\r\n",
        "\r\n",
        "databaseName = 'ipeds' #@param {type:\"string\"}\r\n",
        "sourceSchema='Public'#@param {type:\"string\"} \r\n",
        "warehouseName = 'COMPUTE_WH'#@param{type:\"string\"}\r\n"
      ],
      "execution_count": null,
      "outputs": [
        {
          "output_type": "stream",
          "text": [
            "Enter Snowflake account name:··········\n",
            "Enter Snowflake user name:··········\n",
            "Enter Snowflake password:··········\n"
          ],
          "name": "stdout"
        }
      ]
    },
    {
      "cell_type": "code",
      "metadata": {
        "id": "cfW6BWai2Rgv"
      },
      "source": [
        "# Source System to gather Statistics from\r\n",
        "import snowflake.connector\r\n",
        "import pandas as pd\r\n",
        "from __future__ import print_function\r\n",
        "from ipywidgets import interactive\r\n",
        "\r\n",
        "import ipywidgets as widgets\r\n",
        "\r\n",
        "# Gets the version\r\n",
        "ctx = snowflake.connector.connect(\r\n",
        "    user=userName,\r\n",
        "    password=password,\r\n",
        "    account=accountName,\r\n",
        "    database=databaseName,\r\n",
        "    warehouse=warehouseName    \r\n",
        "    )\r\n",
        "cs = ctx.cursor()\r\n",
        "\r\n",
        "try:\r\n",
        "  sql = \"\"\"\r\n",
        "        SELECT  \r\n",
        "            CASE  TRIM(EB.DESCRIPTION)\r\n",
        "                      WHEN 'US Service schools' THEN 'US Service schools'\r\n",
        "                      WHEN 'New England CT ME MA NH RI VT'  THEN 'New England'\r\n",
        "                      WHEN 'Mid East DE DC MD NJ NY PA'  THEN 'Mid East'\r\n",
        "                      WHEN 'Great Lakes IL IN MI OH WI'  THEN 'Great Lakes'\r\n",
        "                      WHEN 'Plains IA KS MN MO NE ND SD'  THEN 'Plains'\r\n",
        "                      WHEN 'Southeast AL AR FL GA KY LA MS NC SC TN VA WV' THEN 'Southeast'\r\n",
        "                      WHEN 'Southwest AZ NM OK TX' THEN 'Southwest'\r\n",
        "                      WHEN 'Rocky Mountains CO ID MT UT WY'  THEN 'Rocky Mountains'\r\n",
        "                      WHEN 'Far West AK CA HI NV OR WA'  THEN 'Far West'\r\n",
        "                      WHEN 'Outlying areas AS FM GU MH MP PR PW VI' THEN 'Outlying areas' END \"Economic Region\"  \r\n",
        "            ,CASE  \r\n",
        "                WHEN  IC.DESCRIPTION   LIKE 'Degree-granting%associate%' THEN 'Associate degree granting'\r\n",
        "                WHEN  IC.DESCRIPTION   LIKE 'Degree-granting%' THEN 'Degree granting'\r\n",
        "                ELSE 'Non Degree granting' END \"Education offering\" \r\n",
        "            ,ICL.DESCRIPTION \"Institution Type\"\r\n",
        "            ,IL.DESCRIPTION \"Program Offering\" \r\n",
        "            ,CASE INSTITUTIONHASHOSPITAL\r\n",
        "                WHEN 1 THEN 'Yes'\r\n",
        "                ELSE 'No' \r\n",
        "            END \"Institute has hospital\"\r\n",
        "            ,CASE INSTITUTIONGRANTSMEDICALDEGREE\r\n",
        "                WHEN 1  THEN 'Yes'\r\n",
        "                ELSE 'No' \r\n",
        "            END \"Institute grant Medical degree\"\r\n",
        "            ,1 \"Count\" \r\n",
        "            ,CITY \"City\"\r\n",
        "            ,STATE \"State Code\"\r\n",
        "        FROM ACADEMICINSTITUTION\r\n",
        "        INNER JOIN ECONOMICBUREAUREGION EB ON EB.CODE=ECONOMICANALYSISREGIONS\r\n",
        "        INNER JOIN HIGHESTLEVELOFFERING HLO ON HLO.CODE = HIGHESTLEVELOFOFFERING\r\n",
        "        INNER JOIN INSTITUTIONALCATEGORY IC ON IC.CODE=INSTITUTIONALCATEGORY\r\n",
        "        INNER JOIN INSTITUTIONCONTROL ICL ON ICL.CODE=CONTROLOFINSTITUTION\r\n",
        "        INNER JOIN INSTITUTIONLEVEL IL ON IL.CODE=LEVELOFINSTITUTION\r\n",
        "        WHERE INSTITUTIONISACTIVE=1 AND HLO.CODE > 0 AND EB.CODE > 0; \r\n",
        "        \"\"\"\r\n",
        "  #print (sql)\r\n",
        "  cs.execute(sql)\r\n",
        "  records = cs.fetchall()\r\n",
        "  names = [x[0] for x in cs.description]\r\n",
        "  dfInst = pd.DataFrame(records,columns = names)\r\n",
        "finally:\r\n",
        "    cs.close()\r\n",
        "    ctx.close()"
      ],
      "execution_count": null,
      "outputs": []
    },
    {
      "cell_type": "code",
      "metadata": {
        "id": "gff--EBmM7e5"
      },
      "source": [
        "# Apply fiter and display the results\r\n",
        "from IPython.display import HTML\r\n",
        "HTML(dfInst.to_html(index=False))"
      ],
      "execution_count": null,
      "outputs": []
    },
    {
      "cell_type": "code",
      "metadata": {
        "id": "Dv7Pb02A0OKd"
      },
      "source": [
        ""
      ],
      "execution_count": null,
      "outputs": []
    }
  ]
}