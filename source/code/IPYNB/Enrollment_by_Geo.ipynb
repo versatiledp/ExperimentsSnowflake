{
 "cells": [
  {
   "cell_type": "markdown",
   "metadata": {
    "id": "zwYGdEdL0utp"
   },
   "source": [
    "# **Enrollment by Geo location**\n"
   ]
  },
  {
   "cell_type": "code",
   "execution_count": 1,
   "metadata": {
    "id": "ATXnRNk74J7w"
   },
   "outputs": [],
   "source": [
    "pip install snowflake-connector-python==2.3.6 > /dev/null"
   ]
  },
  {
   "cell_type": "code",
   "execution_count": 2,
   "metadata": {
    "colab": {
     "base_uri": "https://localhost:8080/"
    },
    "id": "vpih2QvP0-63",
    "outputId": "fe233802-3592-40e4-dd3c-dfcb5d0dad8e"
   },
   "outputs": [
    {
     "name": "stdout",
     "output_type": "stream",
     "text": [
      "Enter Snowflake account name:··········\n",
      "Enter Snowflake user name:··········\n",
      "Enter Snowflake password:··········\n"
     ]
    }
   ],
   "source": [
    "#read required information to connect to Snowflake database\n",
    "from getpass import getpass\n",
    "accountName = getpass('Enter Snowflake account name:')\n",
    "userName = getpass('Enter Snowflake user name:')\n",
    "password = getpass('Enter Snowflake password:')\n",
    "\n",
    "databaseName = 'ipeds' #@param {type:\"string\"}\n",
    "sourceSchema='Public'#@param {type:\"string\"} \n",
    "warehouseName = 'COMPUTE_WH'#@param{type:\"string\"}\n"
   ]
  },
  {
   "cell_type": "code",
   "execution_count": 36,
   "metadata": {
    "id": "cfW6BWai2Rgv"
   },
   "outputs": [],
   "source": [
    "# Get data from snowflake\n",
    "\n",
    "import snowflake.connector\n",
    "import pandas as pd\n",
    "from __future__ import print_function\n",
    "from ipywidgets import interactive\n",
    "\n",
    "import ipywidgets as widgets\n",
    "\n",
    "# Gets the version\n",
    "ctx = snowflake.connector.connect(\n",
    "    user=userName,\n",
    "    password=password,\n",
    "    account=accountName,\n",
    "    database=databaseName,\n",
    "    warehouse=warehouseName    \n",
    "    )\n",
    "cs = ctx.cursor()\n",
    "\n",
    "try:\n",
    "  sql = \"\"\"\n",
    "            WITH CTE_ENROLLMENT AS\n",
    "            (\n",
    "            SELECT   A.ACADEMICYEAR AS YEAR \n",
    "                    ,B.STATE AS STATE \n",
    "                    ,SUM(A.TOTALMEN+A.TOTALWOMEN) AS ENROLLMENT \n",
    "              FROM ENROLLMENT A\n",
    "              INNER JOIN ACADEMICINSTITUTION B ON A.INSTITUTIONIDENTIFIER = B.INSTITUTIONIDENTIFIER\n",
    "            GROUP BY YEAR, STATE\n",
    "            )\n",
    "            SELECT YEAR, STATE, ENROLLMENT\n",
    "              ,ROUND(100.00 * (RATIO_TO_REPORT(ENROLLMENT) OVER (PARTITION BY YEAR)),2) AS PctOfTotal\n",
    "            FROM CTE_ENROLLMENT\n",
    "            ORDER BY YEAR, STATE; \n",
    "        \"\"\"\n",
    "  #print (sql)\n",
    "  cs.execute(sql)\n",
    "  records = cs.fetchall()\n",
    "  names = [x[0] for x in cs.description]\n",
    "  df = pd.DataFrame(records,columns = names)\n",
    "finally:\n",
    "    cs.close()\n",
    "    ctx.close()"
   ]
  },
  {
   "cell_type": "code",
   "execution_count": 40,
   "metadata": {
    "id": "3Yp4dq_Rj-Uw"
   },
   "outputs": [],
   "source": [
    "# Add formatted column to panda DF to be used for hoverinfo in the map\n",
    "df[\"ENROL\"] = df[\"ENROLLMENT\"].apply(lambda x: \"{:,}\".format(x))"
   ]
  },
  {
   "cell_type": "code",
   "execution_count": 39,
   "metadata": {
    "colab": {
     "base_uri": "https://localhost:8080/",
     "height": 574,
     "referenced_widgets": [
      "0fb1783703a64067a6356a18230b2845",
      "e7b8a664cd2247b9b8021b471cbeb08a",
      "db7e3ff920b247b4a5adf5ecbb49b21e",
      "a2ca5ca4bb624e2ca7009158238dbd4e",
      "2c67514122da48a88b73a978619efb73",
      "9e9f9181040e488f9a0d97af1131c4da",
      "bfd053571a8449b0a3f1cde803cdef4f"
     ]
    },
    "id": "yZgDXl0zfYdr",
    "outputId": "f41e26ec-92d2-4828-80b8-2db61dc5a260"
   },
   "outputs": [
    {
     "data": {
      "application/vnd.jupyter.widget-view+json": {
       "model_id": "0fb1783703a64067a6356a18230b2845",
       "version_major": 2,
       "version_minor": 0
      },
      "text/plain": [
       "interactive(children=(Dropdown(description='Year', options=(2017, 2018, 2019), value=2017), Output()), _dom_cl…"
      ]
     },
     "metadata": {
      "tags": []
     },
     "output_type": "display_data"
    }
   ],
   "source": [
    "# Create the map and render\n",
    "\n",
    "import plotly.graph_objects as go\n",
    "import pandas as pd\n",
    "\n",
    "\n",
    "from ipywidgets import interact, interactive, fixed, interact_manual\n",
    "\n",
    "def color_million_red(value):\n",
    "  if value > 1000000:\n",
    "    color = 'red'\n",
    "  else:\n",
    "    color = 'black'\n",
    "  return 'color: %s' % color\n",
    "\n",
    "def plot_graph(Year):\n",
    "  newdf = df[(df.YEAR == Year)]\n",
    "\n",
    "  fig = go.Figure(data=go.Choropleth(\n",
    "    locations=newdf['STATE'], # Spatial coordinates\n",
    "    z = newdf['ENROLLMENT'].astype(float), # Data to be color-coded\n",
    "    locationmode = 'USA-states', # set of locations match entries in `locations`\n",
    "    colorscale = 'Earth',\n",
    "    colorbar_title = \"Millions\",\n",
    "    #text = newdf[\"PCTOFTOTAL\"],\n",
    "    text = newdf['STATE'] + '<br>' + 'Enrollment : '+ newdf['ENROL']+'<br>'+ 'Percent of enrollment : '+ newdf['PCTOFTOTAL'].astype(str) + ' %',\n",
    "    hoverinfo=\"text\",\n",
    "  ))\n",
    "\n",
    "  fig.update_layout(\n",
    "    title_text = '<b>'+ str(Year)+' Institution Enrollment by State</b><br>(Hover for breakdown)',\n",
    "    geo_scope='usa', # limite map scope to USA\n",
    "    autosize=False,\n",
    "    margin={\"r\":0,\"t\":80,\"l\":0,\"b\":0},\n",
    "  )\n",
    "\n",
    "\n",
    "  fig.show()\n",
    "\n",
    "\n",
    "interact(plot_graph, Year=df.YEAR.unique());"
   ]
  }
 ],
 "metadata": {
  "colab": {
   "collapsed_sections": [],
   "name": "Enrollment by Geo.ipynb",
   "provenance": []
  },
  "kernelspec": {
   "display_name": "Python 3",
   "language": "python",
   "name": "python3"
  },
  "language_info": {
   "codemirror_mode": {
    "name": "ipython",
    "version": 3
   },
   "file_extension": ".py",
   "mimetype": "text/x-python",
   "name": "python",
   "nbconvert_exporter": "python",
   "pygments_lexer": "ipython3",
   "version": "3.8.2"
  },
  "widgets": {
   "application/vnd.jupyter.widget-state+json": {
    "0fb1783703a64067a6356a18230b2845": {
     "model_module": "@jupyter-widgets/controls",
     "model_name": "VBoxModel",
     "state": {
      "_dom_classes": [
       "widget-interact"
      ],
      "_model_module": "@jupyter-widgets/controls",
      "_model_module_version": "1.5.0",
      "_model_name": "VBoxModel",
      "_view_count": null,
      "_view_module": "@jupyter-widgets/controls",
      "_view_module_version": "1.5.0",
      "_view_name": "VBoxView",
      "box_style": "",
      "children": [
       "IPY_MODEL_db7e3ff920b247b4a5adf5ecbb49b21e",
       "IPY_MODEL_a2ca5ca4bb624e2ca7009158238dbd4e"
      ],
      "layout": "IPY_MODEL_e7b8a664cd2247b9b8021b471cbeb08a"
     }
    },
    "2c67514122da48a88b73a978619efb73": {
     "model_module": "@jupyter-widgets/controls",
     "model_name": "DescriptionStyleModel",
     "state": {
      "_model_module": "@jupyter-widgets/controls",
      "_model_module_version": "1.5.0",
      "_model_name": "DescriptionStyleModel",
      "_view_count": null,
      "_view_module": "@jupyter-widgets/base",
      "_view_module_version": "1.2.0",
      "_view_name": "StyleView",
      "description_width": ""
     }
    },
    "9e9f9181040e488f9a0d97af1131c4da": {
     "model_module": "@jupyter-widgets/base",
     "model_name": "LayoutModel",
     "state": {
      "_model_module": "@jupyter-widgets/base",
      "_model_module_version": "1.2.0",
      "_model_name": "LayoutModel",
      "_view_count": null,
      "_view_module": "@jupyter-widgets/base",
      "_view_module_version": "1.2.0",
      "_view_name": "LayoutView",
      "align_content": null,
      "align_items": null,
      "align_self": null,
      "border": null,
      "bottom": null,
      "display": null,
      "flex": null,
      "flex_flow": null,
      "grid_area": null,
      "grid_auto_columns": null,
      "grid_auto_flow": null,
      "grid_auto_rows": null,
      "grid_column": null,
      "grid_gap": null,
      "grid_row": null,
      "grid_template_areas": null,
      "grid_template_columns": null,
      "grid_template_rows": null,
      "height": null,
      "justify_content": null,
      "justify_items": null,
      "left": null,
      "margin": null,
      "max_height": null,
      "max_width": null,
      "min_height": null,
      "min_width": null,
      "object_fit": null,
      "object_position": null,
      "order": null,
      "overflow": null,
      "overflow_x": null,
      "overflow_y": null,
      "padding": null,
      "right": null,
      "top": null,
      "visibility": null,
      "width": null
     }
    },
    "a2ca5ca4bb624e2ca7009158238dbd4e": {
     "model_module": "@jupyter-widgets/output",
     "model_name": "OutputModel",
     "state": {
      "_dom_classes": [],
      "_model_module": "@jupyter-widgets/output",
      "_model_module_version": "1.0.0",
      "_model_name": "OutputModel",
      "_view_count": null,
      "_view_module": "@jupyter-widgets/output",
      "_view_module_version": "1.0.0",
      "_view_name": "OutputView",
      "layout": "IPY_MODEL_bfd053571a8449b0a3f1cde803cdef4f",
      "msg_id": "",
      "outputs": [
       {
        "metadata": {
         "tags": []
        },
        "output_type": "display_data",
        "text/html": "<html>\n<head><meta charset=\"utf-8\" /></head>\n<body>\n    <div>\n            <script src=\"https://cdnjs.cloudflare.com/ajax/libs/mathjax/2.7.5/MathJax.js?config=TeX-AMS-MML_SVG\"></script><script type=\"text/javascript\">if (window.MathJax) {MathJax.Hub.Config({SVG: {font: \"STIX-Web\"}});}</script>\n                <script type=\"text/javascript\">window.PlotlyConfig = {MathJaxConfig: 'local'};</script>\n        <script src=\"https://cdn.plot.ly/plotly-latest.min.js\"></script>    \n            <div id=\"6404d9b4-c5d4-4386-af1b-35fdc26ebed1\" class=\"plotly-graph-div\" style=\"height:525px; width:100%;\"></div>\n            <script type=\"text/javascript\">\n                \n                    window.PLOTLYENV=window.PLOTLYENV || {};\n                    \n                if (document.getElementById(\"6404d9b4-c5d4-4386-af1b-35fdc26ebed1\")) {\n                    Plotly.newPlot(\n                        '6404d9b4-c5d4-4386-af1b-35fdc26ebed1',\n                        [{\"colorbar\": {\"title\": {\"text\": \"Millions\"}}, \"colorscale\": [[0.0, \"rgb(161, 105, 40)\"], [0.16666666666666666, \"rgb(189, 146, 90)\"], [0.3333333333333333, \"rgb(214, 189, 141)\"], [0.5, \"rgb(237, 234, 194)\"], [0.6666666666666666, \"rgb(181, 200, 184)\"], [0.8333333333333334, \"rgb(121, 167, 172)\"], [1.0, \"rgb(40, 135, 161)\"]], \"hoverinfo\": \"text\", \"locationmode\": \"USA-states\", \"locations\": [\"AK\", \"AL\", \"AR\", \"AS\", \"AZ\", \"CA\", \"CO\", \"CT\", \"DC\", \"DE\", \"FL\", \"FM\", \"GA\", \"GU\", \"HI\", \"IA\", \"ID\", \"IL\", \"IN\", \"KS\", \"KY\", \"LA\", \"MA\", \"MD\", \"ME\", \"MH\", \"MI\", \"MN\", \"MO\", \"MP\", \"MS\", \"MT\", \"NC\", \"ND\", \"NE\", \"NH\", \"NJ\", \"NM\", \"NV\", \"NY\", \"OH\", \"OK\", \"OR\", \"PA\", \"PR\", \"PW\", \"RI\", \"SC\", \"SD\", \"TN\", \"TX\", \"UT\", \"VA\", \"VI\", \"VT\", \"WA\", \"WI\", \"WV\", \"WY\"], \"text\": [\"AK<br>Enrollment : 89,742<br>Percent of enrollment : 0.17 %\", \"AL<br>Enrollment : 788,144<br>Percent of enrollment : 1.47 %\", \"AR<br>Enrollment : 414,868<br>Percent of enrollment : 0.77 %\", \"AS<br>Enrollment : 2,740<br>Percent of enrollment : 0.01 %\", \"AZ<br>Enrollment : 1,770,682<br>Percent of enrollment : 3.29 %\", \"CA<br>Enrollment : 7,543,742<br>Percent of enrollment : 14.03 %\", \"CO<br>Enrollment : 1,002,400<br>Percent of enrollment : 1.86 %\", \"CT<br>Enrollment : 520,674<br>Percent of enrollment : 0.97 %\", \"DC<br>Enrollment : 231,026<br>Percent of enrollment : 0.43 %\", \"DE<br>Enrollment : 150,370<br>Percent of enrollment : 0.28 %\", \"FL<br>Enrollment : 3,042,886<br>Percent of enrollment : 5.66 %\", \"FM<br>Enrollment : 5,366<br>Percent of enrollment : 0.01 %\", \"GA<br>Enrollment : 1,384,316<br>Percent of enrollment : 2.57 %\", \"GU<br>Enrollment : 14,498<br>Percent of enrollment : 0.03 %\", \"HI<br>Enrollment : 167,880<br>Percent of enrollment : 0.31 %\", \"IA<br>Enrollment : 692,698<br>Percent of enrollment : 1.29 %\", \"ID<br>Enrollment : 394,972<br>Percent of enrollment : 0.73 %\", \"IL<br>Enrollment : 2,170,190<br>Percent of enrollment : 4.04 %\", \"IN<br>Enrollment : 1,099,934<br>Percent of enrollment : 2.05 %\", \"KS<br>Enrollment : 587,664<br>Percent of enrollment : 1.09 %\", \"KY<br>Enrollment : 668,474<br>Percent of enrollment : 1.24 %\", \"LA<br>Enrollment : 634,240<br>Percent of enrollment : 1.18 %\", \"MA<br>Enrollment : 1,275,546<br>Percent of enrollment : 2.37 %\", \"MD<br>Enrollment : 966,924<br>Percent of enrollment : 1.80 %\", \"ME<br>Enrollment : 189,878<br>Percent of enrollment : 0.35 %\", \"MH<br>Enrollment : 2,798<br>Percent of enrollment : 0.01 %\", \"MI<br>Enrollment : 1,431,434<br>Percent of enrollment : 2.66 %\", \"MN<br>Enrollment : 1,134,162<br>Percent of enrollment : 2.11 %\", \"MO<br>Enrollment : 983,358<br>Percent of enrollment : 1.83 %\", \"MP<br>Enrollment : 2,878<br>Percent of enrollment : 0.01 %\", \"MS<br>Enrollment : 440,014<br>Percent of enrollment : 0.82 %\", \"MT<br>Enrollment : 126,208<br>Percent of enrollment : 0.23 %\", \"NC<br>Enrollment : 1,428,164<br>Percent of enrollment : 2.66 %\", \"ND<br>Enrollment : 133,054<br>Percent of enrollment : 0.25 %\", \"NE<br>Enrollment : 355,234<br>Percent of enrollment : 0.66 %\", \"NH<br>Enrollment : 434,228<br>Percent of enrollment : 0.81 %\", \"NJ<br>Enrollment : 1,115,104<br>Percent of enrollment : 2.07 %\", \"NM<br>Enrollment : 355,528<br>Percent of enrollment : 0.66 %\", \"NV<br>Enrollment : 320,180<br>Percent of enrollment : 0.60 %\", \"NY<br>Enrollment : 3,243,006<br>Percent of enrollment : 6.03 %\", \"OH<br>Enrollment : 1,713,144<br>Percent of enrollment : 3.19 %\", \"OK<br>Enrollment : 564,632<br>Percent of enrollment : 1.05 %\", \"OR<br>Enrollment : 683,064<br>Percent of enrollment : 1.27 %\", \"PA<br>Enrollment : 1,828,326<br>Percent of enrollment : 3.40 %\", \"PR<br>Enrollment : 534,158<br>Percent of enrollment : 0.99 %\", \"PW<br>Enrollment : 1,242<br>Percent of enrollment : 0.00 %\", \"RI<br>Enrollment : 197,976<br>Percent of enrollment : 0.37 %\", \"SC<br>Enrollment : 621,890<br>Percent of enrollment : 1.16 %\", \"SD<br>Enrollment : 157,860<br>Percent of enrollment : 0.29 %\", \"TN<br>Enrollment : 835,150<br>Percent of enrollment : 1.55 %\", \"TX<br>Enrollment : 4,439,638<br>Percent of enrollment : 8.26 %\", \"UT<br>Enrollment : 935,256<br>Percent of enrollment : 1.74 %\", \"VA<br>Enrollment : 1,432,294<br>Percent of enrollment : 2.66 %\", \"VI<br>Enrollment : 5,048<br>Percent of enrollment : 0.01 %\", \"VT<br>Enrollment : 119,590<br>Percent of enrollment : 0.22 %\", \"WA<br>Enrollment : 1,018,532<br>Percent of enrollment : 1.89 %\", \"WI<br>Enrollment : 867,572<br>Percent of enrollment : 1.61 %\", \"WV<br>Enrollment : 415,776<br>Percent of enrollment : 0.77 %\", \"WY<br>Enrollment : 87,782<br>Percent of enrollment : 0.16 %\"], \"type\": \"choropleth\", \"z\": [89742.0, 788144.0, 414868.0, 2740.0, 1770682.0, 7543742.0, 1002400.0, 520674.0, 231026.0, 150370.0, 3042886.0, 5366.0, 1384316.0, 14498.0, 167880.0, 692698.0, 394972.0, 2170190.0, 1099934.0, 587664.0, 668474.0, 634240.0, 1275546.0, 966924.0, 189878.0, 2798.0, 1431434.0, 1134162.0, 983358.0, 2878.0, 440014.0, 126208.0, 1428164.0, 133054.0, 355234.0, 434228.0, 1115104.0, 355528.0, 320180.0, 3243006.0, 1713144.0, 564632.0, 683064.0, 1828326.0, 534158.0, 1242.0, 197976.0, 621890.0, 157860.0, 835150.0, 4439638.0, 935256.0, 1432294.0, 5048.0, 119590.0, 1018532.0, 867572.0, 415776.0, 87782.0]}],\n                        {\"autosize\": false, \"geo\": {\"scope\": \"usa\"}, \"margin\": {\"b\": 0, \"l\": 0, \"r\": 0, \"t\": 80}, \"template\": {\"data\": {\"bar\": [{\"error_x\": {\"color\": \"#2a3f5f\"}, \"error_y\": {\"color\": \"#2a3f5f\"}, \"marker\": {\"line\": {\"color\": \"#E5ECF6\", \"width\": 0.5}}, \"type\": \"bar\"}], \"barpolar\": [{\"marker\": {\"line\": {\"color\": \"#E5ECF6\", \"width\": 0.5}}, \"type\": \"barpolar\"}], \"carpet\": [{\"aaxis\": {\"endlinecolor\": \"#2a3f5f\", \"gridcolor\": \"white\", \"linecolor\": \"white\", \"minorgridcolor\": \"white\", \"startlinecolor\": \"#2a3f5f\"}, \"baxis\": {\"endlinecolor\": \"#2a3f5f\", \"gridcolor\": \"white\", \"linecolor\": \"white\", \"minorgridcolor\": \"white\", \"startlinecolor\": \"#2a3f5f\"}, \"type\": \"carpet\"}], \"choropleth\": [{\"colorbar\": {\"outlinewidth\": 0, \"ticks\": \"\"}, \"type\": \"choropleth\"}], \"contour\": [{\"colorbar\": {\"outlinewidth\": 0, \"ticks\": \"\"}, \"colorscale\": [[0.0, \"#0d0887\"], [0.1111111111111111, \"#46039f\"], [0.2222222222222222, \"#7201a8\"], [0.3333333333333333, \"#9c179e\"], [0.4444444444444444, \"#bd3786\"], [0.5555555555555556, \"#d8576b\"], [0.6666666666666666, \"#ed7953\"], [0.7777777777777778, \"#fb9f3a\"], [0.8888888888888888, \"#fdca26\"], [1.0, \"#f0f921\"]], \"type\": \"contour\"}], \"contourcarpet\": [{\"colorbar\": {\"outlinewidth\": 0, \"ticks\": \"\"}, \"type\": \"contourcarpet\"}], \"heatmap\": [{\"colorbar\": {\"outlinewidth\": 0, \"ticks\": \"\"}, \"colorscale\": [[0.0, \"#0d0887\"], [0.1111111111111111, \"#46039f\"], [0.2222222222222222, \"#7201a8\"], [0.3333333333333333, \"#9c179e\"], [0.4444444444444444, \"#bd3786\"], [0.5555555555555556, \"#d8576b\"], [0.6666666666666666, \"#ed7953\"], [0.7777777777777778, \"#fb9f3a\"], [0.8888888888888888, \"#fdca26\"], [1.0, \"#f0f921\"]], \"type\": \"heatmap\"}], \"heatmapgl\": [{\"colorbar\": {\"outlinewidth\": 0, \"ticks\": \"\"}, \"colorscale\": [[0.0, \"#0d0887\"], [0.1111111111111111, \"#46039f\"], [0.2222222222222222, \"#7201a8\"], [0.3333333333333333, \"#9c179e\"], [0.4444444444444444, \"#bd3786\"], [0.5555555555555556, \"#d8576b\"], [0.6666666666666666, \"#ed7953\"], [0.7777777777777778, \"#fb9f3a\"], [0.8888888888888888, \"#fdca26\"], [1.0, \"#f0f921\"]], \"type\": \"heatmapgl\"}], \"histogram\": [{\"marker\": {\"colorbar\": {\"outlinewidth\": 0, \"ticks\": \"\"}}, \"type\": \"histogram\"}], \"histogram2d\": [{\"colorbar\": {\"outlinewidth\": 0, \"ticks\": \"\"}, \"colorscale\": [[0.0, \"#0d0887\"], [0.1111111111111111, \"#46039f\"], [0.2222222222222222, \"#7201a8\"], [0.3333333333333333, \"#9c179e\"], [0.4444444444444444, \"#bd3786\"], [0.5555555555555556, \"#d8576b\"], [0.6666666666666666, \"#ed7953\"], [0.7777777777777778, \"#fb9f3a\"], [0.8888888888888888, \"#fdca26\"], [1.0, \"#f0f921\"]], \"type\": \"histogram2d\"}], \"histogram2dcontour\": [{\"colorbar\": {\"outlinewidth\": 0, \"ticks\": \"\"}, \"colorscale\": [[0.0, \"#0d0887\"], [0.1111111111111111, \"#46039f\"], [0.2222222222222222, \"#7201a8\"], [0.3333333333333333, \"#9c179e\"], [0.4444444444444444, \"#bd3786\"], [0.5555555555555556, \"#d8576b\"], [0.6666666666666666, \"#ed7953\"], [0.7777777777777778, \"#fb9f3a\"], [0.8888888888888888, \"#fdca26\"], [1.0, \"#f0f921\"]], \"type\": \"histogram2dcontour\"}], \"mesh3d\": [{\"colorbar\": {\"outlinewidth\": 0, \"ticks\": \"\"}, \"type\": \"mesh3d\"}], \"parcoords\": [{\"line\": {\"colorbar\": {\"outlinewidth\": 0, \"ticks\": \"\"}}, \"type\": \"parcoords\"}], \"pie\": [{\"automargin\": true, \"type\": \"pie\"}], \"scatter\": [{\"marker\": {\"colorbar\": {\"outlinewidth\": 0, \"ticks\": \"\"}}, \"type\": \"scatter\"}], \"scatter3d\": [{\"line\": {\"colorbar\": {\"outlinewidth\": 0, \"ticks\": \"\"}}, \"marker\": {\"colorbar\": {\"outlinewidth\": 0, \"ticks\": \"\"}}, \"type\": \"scatter3d\"}], \"scattercarpet\": [{\"marker\": {\"colorbar\": {\"outlinewidth\": 0, \"ticks\": \"\"}}, \"type\": \"scattercarpet\"}], \"scattergeo\": [{\"marker\": {\"colorbar\": {\"outlinewidth\": 0, \"ticks\": \"\"}}, \"type\": \"scattergeo\"}], \"scattergl\": [{\"marker\": {\"colorbar\": {\"outlinewidth\": 0, \"ticks\": \"\"}}, \"type\": \"scattergl\"}], \"scattermapbox\": [{\"marker\": {\"colorbar\": {\"outlinewidth\": 0, \"ticks\": \"\"}}, \"type\": \"scattermapbox\"}], \"scatterpolar\": [{\"marker\": {\"colorbar\": {\"outlinewidth\": 0, \"ticks\": \"\"}}, \"type\": \"scatterpolar\"}], \"scatterpolargl\": [{\"marker\": {\"colorbar\": {\"outlinewidth\": 0, \"ticks\": \"\"}}, \"type\": \"scatterpolargl\"}], \"scatterternary\": [{\"marker\": {\"colorbar\": {\"outlinewidth\": 0, \"ticks\": \"\"}}, \"type\": \"scatterternary\"}], \"surface\": [{\"colorbar\": {\"outlinewidth\": 0, \"ticks\": \"\"}, \"colorscale\": [[0.0, \"#0d0887\"], [0.1111111111111111, \"#46039f\"], [0.2222222222222222, \"#7201a8\"], [0.3333333333333333, \"#9c179e\"], [0.4444444444444444, \"#bd3786\"], [0.5555555555555556, \"#d8576b\"], [0.6666666666666666, \"#ed7953\"], [0.7777777777777778, \"#fb9f3a\"], [0.8888888888888888, \"#fdca26\"], [1.0, \"#f0f921\"]], \"type\": \"surface\"}], \"table\": [{\"cells\": {\"fill\": {\"color\": \"#EBF0F8\"}, \"line\": {\"color\": \"white\"}}, \"header\": {\"fill\": {\"color\": \"#C8D4E3\"}, \"line\": {\"color\": \"white\"}}, \"type\": \"table\"}]}, \"layout\": {\"annotationdefaults\": {\"arrowcolor\": \"#2a3f5f\", \"arrowhead\": 0, \"arrowwidth\": 1}, \"coloraxis\": {\"colorbar\": {\"outlinewidth\": 0, \"ticks\": \"\"}}, \"colorscale\": {\"diverging\": [[0, \"#8e0152\"], [0.1, \"#c51b7d\"], [0.2, \"#de77ae\"], [0.3, \"#f1b6da\"], [0.4, \"#fde0ef\"], [0.5, \"#f7f7f7\"], [0.6, \"#e6f5d0\"], [0.7, \"#b8e186\"], [0.8, \"#7fbc41\"], [0.9, \"#4d9221\"], [1, \"#276419\"]], \"sequential\": [[0.0, \"#0d0887\"], [0.1111111111111111, \"#46039f\"], [0.2222222222222222, \"#7201a8\"], [0.3333333333333333, \"#9c179e\"], [0.4444444444444444, \"#bd3786\"], [0.5555555555555556, \"#d8576b\"], [0.6666666666666666, \"#ed7953\"], [0.7777777777777778, \"#fb9f3a\"], [0.8888888888888888, \"#fdca26\"], [1.0, \"#f0f921\"]], \"sequentialminus\": [[0.0, \"#0d0887\"], [0.1111111111111111, \"#46039f\"], [0.2222222222222222, \"#7201a8\"], [0.3333333333333333, \"#9c179e\"], [0.4444444444444444, \"#bd3786\"], [0.5555555555555556, \"#d8576b\"], [0.6666666666666666, \"#ed7953\"], [0.7777777777777778, \"#fb9f3a\"], [0.8888888888888888, \"#fdca26\"], [1.0, \"#f0f921\"]]}, \"colorway\": [\"#636efa\", \"#EF553B\", \"#00cc96\", \"#ab63fa\", \"#FFA15A\", \"#19d3f3\", \"#FF6692\", \"#B6E880\", \"#FF97FF\", \"#FECB52\"], \"font\": {\"color\": \"#2a3f5f\"}, \"geo\": {\"bgcolor\": \"white\", \"lakecolor\": \"white\", \"landcolor\": \"#E5ECF6\", \"showlakes\": true, \"showland\": true, \"subunitcolor\": \"white\"}, \"hoverlabel\": {\"align\": \"left\"}, \"hovermode\": \"closest\", \"mapbox\": {\"style\": \"light\"}, \"paper_bgcolor\": \"white\", \"plot_bgcolor\": \"#E5ECF6\", \"polar\": {\"angularaxis\": {\"gridcolor\": \"white\", \"linecolor\": \"white\", \"ticks\": \"\"}, \"bgcolor\": \"#E5ECF6\", \"radialaxis\": {\"gridcolor\": \"white\", \"linecolor\": \"white\", \"ticks\": \"\"}}, \"scene\": {\"xaxis\": {\"backgroundcolor\": \"#E5ECF6\", \"gridcolor\": \"white\", \"gridwidth\": 2, \"linecolor\": \"white\", \"showbackground\": true, \"ticks\": \"\", \"zerolinecolor\": \"white\"}, \"yaxis\": {\"backgroundcolor\": \"#E5ECF6\", \"gridcolor\": \"white\", \"gridwidth\": 2, \"linecolor\": \"white\", \"showbackground\": true, \"ticks\": \"\", \"zerolinecolor\": \"white\"}, \"zaxis\": {\"backgroundcolor\": \"#E5ECF6\", \"gridcolor\": \"white\", \"gridwidth\": 2, \"linecolor\": \"white\", \"showbackground\": true, \"ticks\": \"\", \"zerolinecolor\": \"white\"}}, \"shapedefaults\": {\"line\": {\"color\": \"#2a3f5f\"}}, \"ternary\": {\"aaxis\": {\"gridcolor\": \"white\", \"linecolor\": \"white\", \"ticks\": \"\"}, \"baxis\": {\"gridcolor\": \"white\", \"linecolor\": \"white\", \"ticks\": \"\"}, \"bgcolor\": \"#E5ECF6\", \"caxis\": {\"gridcolor\": \"white\", \"linecolor\": \"white\", \"ticks\": \"\"}}, \"title\": {\"x\": 0.05}, \"xaxis\": {\"automargin\": true, \"gridcolor\": \"white\", \"linecolor\": \"white\", \"ticks\": \"\", \"title\": {\"standoff\": 15}, \"zerolinecolor\": \"white\", \"zerolinewidth\": 2}, \"yaxis\": {\"automargin\": true, \"gridcolor\": \"white\", \"linecolor\": \"white\", \"ticks\": \"\", \"title\": {\"standoff\": 15}, \"zerolinecolor\": \"white\", \"zerolinewidth\": 2}}}, \"title\": {\"text\": \"<b>2018 Institution Enrollment by State</b><br>(Hover for breakdown)\"}},\n                        {\"responsive\": true}\n                    ).then(function(){\n                            \nvar gd = document.getElementById('6404d9b4-c5d4-4386-af1b-35fdc26ebed1');\nvar x = new MutationObserver(function (mutations, observer) {{\n        var display = window.getComputedStyle(gd).display;\n        if (!display || display === 'none') {{\n            console.log([gd, 'removed!']);\n            Plotly.purge(gd);\n            observer.disconnect();\n        }}\n}});\n\n// Listen for the removal of the full notebook cells\nvar notebookContainer = gd.closest('#notebook-container');\nif (notebookContainer) {{\n    x.observe(notebookContainer, {childList: true});\n}}\n\n// Listen for the clearing of the current output cell\nvar outputEl = gd.closest('.output');\nif (outputEl) {{\n    x.observe(outputEl, {childList: true});\n}}\n\n                        })\n                };\n                \n            </script>\n        </div>\n</body>\n</html>"
       }
      ]
     }
    },
    "bfd053571a8449b0a3f1cde803cdef4f": {
     "model_module": "@jupyter-widgets/base",
     "model_name": "LayoutModel",
     "state": {
      "_model_module": "@jupyter-widgets/base",
      "_model_module_version": "1.2.0",
      "_model_name": "LayoutModel",
      "_view_count": null,
      "_view_module": "@jupyter-widgets/base",
      "_view_module_version": "1.2.0",
      "_view_name": "LayoutView",
      "align_content": null,
      "align_items": null,
      "align_self": null,
      "border": null,
      "bottom": null,
      "display": null,
      "flex": null,
      "flex_flow": null,
      "grid_area": null,
      "grid_auto_columns": null,
      "grid_auto_flow": null,
      "grid_auto_rows": null,
      "grid_column": null,
      "grid_gap": null,
      "grid_row": null,
      "grid_template_areas": null,
      "grid_template_columns": null,
      "grid_template_rows": null,
      "height": null,
      "justify_content": null,
      "justify_items": null,
      "left": null,
      "margin": null,
      "max_height": null,
      "max_width": null,
      "min_height": null,
      "min_width": null,
      "object_fit": null,
      "object_position": null,
      "order": null,
      "overflow": null,
      "overflow_x": null,
      "overflow_y": null,
      "padding": null,
      "right": null,
      "top": null,
      "visibility": null,
      "width": null
     }
    },
    "db7e3ff920b247b4a5adf5ecbb49b21e": {
     "model_module": "@jupyter-widgets/controls",
     "model_name": "DropdownModel",
     "state": {
      "_dom_classes": [],
      "_model_module": "@jupyter-widgets/controls",
      "_model_module_version": "1.5.0",
      "_model_name": "DropdownModel",
      "_options_labels": [
       "2017",
       "2018",
       "2019"
      ],
      "_view_count": null,
      "_view_module": "@jupyter-widgets/controls",
      "_view_module_version": "1.5.0",
      "_view_name": "DropdownView",
      "description": "Year",
      "description_tooltip": null,
      "disabled": false,
      "index": 1,
      "layout": "IPY_MODEL_9e9f9181040e488f9a0d97af1131c4da",
      "style": "IPY_MODEL_2c67514122da48a88b73a978619efb73"
     }
    },
    "e7b8a664cd2247b9b8021b471cbeb08a": {
     "model_module": "@jupyter-widgets/base",
     "model_name": "LayoutModel",
     "state": {
      "_model_module": "@jupyter-widgets/base",
      "_model_module_version": "1.2.0",
      "_model_name": "LayoutModel",
      "_view_count": null,
      "_view_module": "@jupyter-widgets/base",
      "_view_module_version": "1.2.0",
      "_view_name": "LayoutView",
      "align_content": null,
      "align_items": null,
      "align_self": null,
      "border": null,
      "bottom": null,
      "display": null,
      "flex": null,
      "flex_flow": null,
      "grid_area": null,
      "grid_auto_columns": null,
      "grid_auto_flow": null,
      "grid_auto_rows": null,
      "grid_column": null,
      "grid_gap": null,
      "grid_row": null,
      "grid_template_areas": null,
      "grid_template_columns": null,
      "grid_template_rows": null,
      "height": null,
      "justify_content": null,
      "justify_items": null,
      "left": null,
      "margin": null,
      "max_height": null,
      "max_width": null,
      "min_height": null,
      "min_width": null,
      "object_fit": null,
      "object_position": null,
      "order": null,
      "overflow": null,
      "overflow_x": null,
      "overflow_y": null,
      "padding": null,
      "right": null,
      "top": null,
      "visibility": null,
      "width": null
     }
    }
   }
  }
 },
 "nbformat": 4,
 "nbformat_minor": 1
}
